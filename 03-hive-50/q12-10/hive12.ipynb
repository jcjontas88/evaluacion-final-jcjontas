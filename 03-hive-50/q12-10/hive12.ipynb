{
 "cells": [
  {
   "cell_type": "code",
   "execution_count": 1,
   "metadata": {},
   "outputs": [
    {
     "name": "stdout",
     "output_type": "stream",
     "text": [
      "SLF4J: Class path contains multiple SLF4J bindings.\n",
      "SLF4J: Found binding in [jar:file:/usr/local/hive/lib/log4j-slf4j-impl-2.6.2.jar!/org/slf4j/impl/StaticLoggerBinder.class]\n",
      "SLF4J: Found binding in [jar:file:/usr/local/hadoop/share/hadoop/common/lib/slf4j-log4j12-1.7.10.jar!/org/slf4j/impl/StaticLoggerBinder.class]\n",
      "SLF4J: See http://www.slf4j.org/codes.html#multiple_bindings for an explanation.\n",
      "SLF4J: Actual binding is of type [org.apache.logging.slf4j.Log4jLoggerFactory]\n",
      "SLF4J: Class path contains multiple SLF4J bindings.\n",
      "SLF4J: Found binding in [jar:file:/usr/local/hive/lib/log4j-slf4j-impl-2.6.2.jar!/org/slf4j/impl/StaticLoggerBinder.class]\n",
      "SLF4J: Found binding in [jar:file:/usr/local/hadoop/share/hadoop/common/lib/slf4j-log4j12-1.7.10.jar!/org/slf4j/impl/StaticLoggerBinder.class]\n",
      "SLF4J: See http://www.slf4j.org/codes.html#multiple_bindings for an explanation.\n",
      "SLF4J: Actual binding is of type [org.apache.logging.slf4j.Log4jLoggerFactory]\n"
     ]
    }
   ],
   "source": [
    "!hive -S -e 'source question.hql'"
   ]
  },
  {
   "cell_type": "code",
   "execution_count": 2,
   "metadata": {},
   "outputs": [
    {
     "name": "stdout",
     "output_type": "stream",
     "text": [
      "a,aaa,5\n",
      "a,bbb,7\n",
      "a,ccc,13\n",
      "a,ddd,13\n",
      "a,eee,7\n",
      "a,fff,10\n",
      "a,ggg,8\n",
      "a,hhh,8\n",
      "a,iii,7\n",
      "a,jjj,10\n",
      "b,aaa,4\n",
      "b,bbb,7\n",
      "b,ccc,5\n",
      "b,ddd,7\n",
      "b,eee,5\n",
      "b,fff,8\n",
      "b,ggg,4\n",
      "b,hhh,7\n",
      "b,iii,7\n",
      "b,jjj,5\n",
      "c,aaa,5\n",
      "c,bbb,4\n",
      "c,ccc,12\n",
      "c,ddd,9\n",
      "c,eee,6\n",
      "c,fff,8\n",
      "c,ggg,7\n",
      "c,hhh,7\n",
      "c,iii,8\n",
      "c,jjj,8\n",
      "d,aaa,4\n",
      "d,bbb,6\n",
      "d,ccc,7\n",
      "d,ddd,5\n",
      "d,eee,6\n",
      "d,fff,8\n",
      "d,ggg,6\n",
      "d,hhh,4\n",
      "d,iii,9\n",
      "d,jjj,8\n",
      "e,aaa,3\n",
      "e,bbb,8\n",
      "e,ccc,9\n",
      "e,ddd,7\n",
      "e,eee,7\n",
      "e,fff,9\n",
      "e,ggg,4\n",
      "e,hhh,4\n",
      "e,iii,8\n",
      "e,jjj,3\n",
      "f,aaa,8\n",
      "f,bbb,10\n",
      "f,ccc,13\n",
      "f,ddd,17\n",
      "f,eee,11\n",
      "f,fff,11\n",
      "f,ggg,9\n",
      "f,hhh,10\n",
      "f,iii,10\n",
      "f,jjj,12\n",
      "g,aaa,3\n",
      "g,bbb,3\n",
      "g,ccc,6\n",
      "g,ddd,5\n",
      "g,eee,4\n",
      "g,fff,5\n",
      "g,ggg,4\n",
      "g,hhh,3\n",
      "g,iii,4\n",
      "g,jjj,6\n"
     ]
    }
   ],
   "source": [
    "!cat output/*"
   ]
  },
  {
   "cell_type": "code",
   "execution_count": null,
   "metadata": {},
   "outputs": [],
   "source": []
  }
 ],
 "metadata": {
  "kernelspec": {
   "display_name": "Python 3",
   "language": "python",
   "name": "python3"
  },
  "language_info": {
   "codemirror_mode": {
    "name": "ipython",
    "version": 3
   },
   "file_extension": ".py",
   "mimetype": "text/x-python",
   "name": "python",
   "nbconvert_exporter": "python",
   "pygments_lexer": "ipython3",
   "version": "3.6.9"
  }
 },
 "nbformat": 4,
 "nbformat_minor": 4
}
