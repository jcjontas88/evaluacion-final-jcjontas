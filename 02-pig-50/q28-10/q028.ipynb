{
 "cells": [
  {
   "cell_type": "code",
   "execution_count": 1,
   "metadata": {},
   "outputs": [],
   "source": [
    "%load_ext bigdata\n",
    "%timeout 300\n",
    "%pig_start"
   ]
  },
  {
   "cell_type": "code",
   "execution_count": 2,
   "metadata": {},
   "outputs": [
    {
     "name": "stdout",
     "output_type": "stream",
     "text": [
      " fs -rm -f -r output;\n",
      "Deleted output\n"
     ]
    }
   ],
   "source": [
    "%%pig\n",
    "fs -rm -f -r output;"
   ]
  },
  {
   "cell_type": "code",
   "execution_count": 3,
   "metadata": {},
   "outputs": [
    {
     "name": "stdout",
     "output_type": "stream",
     "text": [
      " fs -rm -f -r data.csv\n",
      "Deleted data.csv\n",
      " fs -put data.csv\n"
     ]
    }
   ],
   "source": [
    "%%pig\n",
    "fs -rm -f -r data.csv\n",
    "fs -put data.csv"
   ]
  },
  {
   "cell_type": "code",
   "execution_count": 4,
   "metadata": {},
   "outputs": [
    {
     "name": "stdout",
     "output_type": "stream",
     "text": [
      " u = LOAD 'data.csv' USING PigStorage(',') \n",
      "    AS (id:int, \n",
      "        firstname:CHARARRAY, \n",
      "        surname:CHARARRAY, \n",
      "        birthday:CHARARRAY, \n",
      "        color:CHARARRAY, \n",
      "        quantity:INT);\n"
     ]
    }
   ],
   "source": [
    "%%pig\n",
    "u = LOAD 'data.csv' USING PigStorage(',') \n",
    "    AS (id:int, \n",
    "        firstname:CHARARRAY, \n",
    "        surname:CHARARRAY, \n",
    "        birthday:CHARARRAY, \n",
    "        color:CHARARRAY, \n",
    "        quantity:INT);"
   ]
  },
  {
   "cell_type": "code",
   "execution_count": 5,
   "metadata": {},
   "outputs": [
    {
     "name": "stdout",
     "output_type": "stream",
     "text": [
      " v = FOREACH u GENERATE $3,ToDate($3,'yyyy-MM-dd');\n",
      " w = FOREACH v GENERATE ToString($1,'yyyy'),ToString($1,'yy');\n"
     ]
    }
   ],
   "source": [
    "%%pig\n",
    "v = FOREACH u GENERATE $3,ToDate($3,'yyyy-MM-dd');\n",
    "w = FOREACH v GENERATE ToString($1,'yyyy'),ToString($1,'yy');"
   ]
  },
  {
   "cell_type": "code",
   "execution_count": 6,
   "metadata": {},
   "outputs": [
    {
     "name": "stdout",
     "output_type": "stream",
     "text": [
      " STORE w INTO 'output'USING PigStorage(',');\n",
      "2020-01-28 22:21:41,059 [main] INFO  org.apache.hadoop.conf.Configuration.deprecation - mapred.textoutputformat.separator is deprecated. Instead, use mapreduce.output.textoutputformat.separator\n",
      "2020-01-28 22:21:41,671 [main] INFO  org.apache.hadoop.yarn.client.RMProxy - Connecting to ResourceManager at /0.0.0.0:8032\n",
      "2020-01-28 22:21:42,338 [main] INFO  org.apache.hadoop.conf.Configuration.deprecation - mapred.job.reduce.markreset.buffer.percent is deprecated. Instead, use mapreduce.reduce.markreset.buffer.percent\n",
      "2020-01-28 22:21:42,344 [main] INFO  org.apache.hadoop.conf.Configuration.deprecation - mapred.output.compress is deprecated. Instead, use mapreduce.output.fileoutputformat.compress\n",
      "2020-01-28 22:21:42,359 [main] INFO  org.apache.hadoop.conf.Configuration.deprecation - mapred.submit.replication is deprecated. Instead, use mapreduce.client.submit.file.replication\n",
      "2020-01-28 22:21:45,050 [main] INFO  org.apache.hadoop.conf.Configuration.deprecation - mapred.job.tracker.http.address is deprecated. Instead, use mapreduce.jobtracker.http.address\n",
      "2020-01-28 22:21:45,060 [JobControl] INFO  org.apache.hadoop.yarn.client.RMProxy - Connecting to ResourceManager at /0.0.0.0:8032\n",
      "2020-01-28 22:21:45,082 [JobControl] INFO  org.apache.hadoop.conf.Configuration.deprecation - mapred.task.id is deprecated. Instead, use mapreduce.task.attempt.id\n",
      "2020-01-28 22:21:45,282 [JobControl] WARN  org.apache.hadoop.mapreduce.JobResourceUploader - No job jar file set.  User classes may not be found. See Job or Job#setJar(String).\n",
      "2020-01-28 22:21:45,340 [JobControl] INFO  org.apache.hadoop.mapreduce.lib.input.FileInputFormat - Total input files to process : 1\n",
      "2020-01-28 22:21:45,940 [JobControl] INFO  org.apache.hadoop.mapreduce.JobSubmitter - number of splits:1\n",
      "2020-01-28 22:21:46,199 [JobControl] INFO  org.apache.hadoop.mapreduce.JobSubmitter - Submitting tokens for job: job_1580246493216_0022\n",
      "2020-01-28 22:21:46,436 [JobControl] INFO  org.apache.hadoop.mapred.YARNRunner - Job jar is not present. Not adding any jar to the list of resources.\n",
      "2020-01-28 22:21:46,603 [JobControl] INFO  org.apache.hadoop.yarn.client.api.impl.YarnClientImpl - Submitted application application_1580246493216_0022\n",
      "2020-01-28 22:21:46,669 [JobControl] INFO  org.apache.hadoop.mapreduce.Job - The url to track the job: http://77d169bca763:8088/proxy/application_1580246493216_0022/\n",
      "2020-01-28 22:22:12,088 [main] INFO  org.apache.hadoop.yarn.client.RMProxy - Connecting to ResourceManager at /0.0.0.0:8032\n",
      "2020-01-28 22:22:12,109 [main] INFO  org.apache.hadoop.mapred.ClientServiceDelegate - Application state is completed. FinalApplicationStatus=SUCCEEDED. Redirecting to job history server\n",
      "2020-01-28 22:22:12,983 [main] INFO  org.apache.hadoop.yarn.client.RMProxy - Connecting to ResourceManager at /0.0.0.0:8032\n",
      "2020-01-28 22:22:12,991 [main] INFO  org.apache.hadoop.mapred.ClientServiceDelegate - Application state is completed. FinalApplicationStatus=SUCCEEDED. Redirecting to job history server\n",
      "2020-01-28 22:22:13,021 [main] INFO  org.apache.hadoop.conf.Configuration.deprecation - mapred.reduce.tasks is deprecated. Instead, use mapreduce.job.reduces\n",
      "2020-01-28 22:22:13,022 [main] INFO  org.apache.hadoop.yarn.client.RMProxy - Connecting to ResourceManager at /0.0.0.0:8032\n",
      "2020-01-28 22:22:13,088 [main] INFO  org.apache.hadoop.mapred.ClientServiceDelegate - Application state is completed. FinalApplicationStatus=SUCCEEDED. Redirecting to job history server\n",
      "2020-01-28 22:22:13,249 [main] INFO  org.apache.hadoop.yarn.client.RMProxy - Connecting to ResourceManager at /0.0.0.0:8032\n",
      "2020-01-28 22:22:13,255 [main] INFO  org.apache.hadoop.mapred.ClientServiceDelegate - Application state is completed. FinalApplicationStatus=SUCCEEDED. Redirecting to job history server\n",
      "2020-01-28 22:22:13,306 [main] INFO  org.apache.hadoop.yarn.client.RMProxy - Connecting to ResourceManager at /0.0.0.0:8032\n",
      "2020-01-28 22:22:13,315 [main] INFO  org.apache.hadoop.mapred.ClientServiceDelegate - Application state is completed. FinalApplicationStatus=SUCCEEDED. Redirecting to job history server\n",
      "2020-01-28 22:22:13,340 [main] INFO  org.apache.hadoop.yarn.client.RMProxy - Connecting to ResourceManager at /0.0.0.0:8032\n",
      "2020-01-28 22:22:13,345 [main] INFO  org.apache.hadoop.mapred.ClientServiceDelegate - Application state is completed. FinalApplicationStatus=SUCCEEDED. Redirecting to job history server\n"
     ]
    }
   ],
   "source": [
    "%%pig\n",
    "STORE w INTO 'output'USING PigStorage(',');"
   ]
  },
  {
   "cell_type": "code",
   "execution_count": 7,
   "metadata": {},
   "outputs": [
    {
     "name": "stdout",
     "output_type": "stream",
     "text": [
      "-rw-r--r--   1 root supergroup          0 2020-01-22 23:48 output/_SUCCESS\n",
      "-rw-r--r--   1 root supergroup        144 2020-01-22 23:48 output/part-m-00000\n"
     ]
    }
   ],
   "source": [
    "!hadoop fs -ls output/*"
   ]
  },
  {
   "cell_type": "code",
   "execution_count": 8,
   "metadata": {},
   "outputs": [
    {
     "name": "stdout",
     "output_type": "stream",
     "text": [
      "1971,71\n",
      "1974,74\n",
      "1973,73\n",
      "1975,75\n",
      "1974,74\n",
      "1974,74\n",
      "1970,70\n",
      "1969,69\n",
      "1974,74\n",
      "1975,75\n",
      "1969,69\n",
      "1973,73\n",
      "1970,70\n",
      "1972,72\n",
      "1970,70\n",
      "1974,74\n",
      "1973,73\n",
      "1973,73\n"
     ]
    }
   ],
   "source": [
    "!hadoop fs -cat output/part-m-00000"
   ]
  },
  {
   "cell_type": "code",
   "execution_count": 7,
   "metadata": {},
   "outputs": [],
   "source": [
    "!hadoop fs -copyToLocal output output"
   ]
  },
  {
   "cell_type": "code",
   "execution_count": 8,
   "metadata": {},
   "outputs": [
    {
     "name": "stdout",
     "output_type": "stream",
     "text": [
      "2020-01-28 22:23:59,328 [main] INFO  org.apache.hadoop.conf.Configuration.deprecation - mapred.job.tracker is deprecated. Instead, use mapreduce.jobtracker.address\n",
      "2020-01-28 22:24:01,913 [main] ERROR org.apache.pig.tools.grunt.Grunt - ERROR 1000: Error during parsing. Encountered \" <PATH> \"!hadoop \"\" at line 39, column 1.\n",
      "Was expecting one of:\n",
      "    <EOF> \n",
      "    \"cat\" ...\n",
      "    \"clear\" ...\n",
      "    \"fs\" ...\n",
      "    \"sh\" ...\n",
      "    \"cd\" ...\n",
      "    \"cp\" ...\n",
      "    \"copyFromLocal\" ...\n",
      "    \"copyToLocal\" ...\n",
      "    \"dump\" ...\n",
      "    \"\\\\d\" ...\n",
      "    \"describe\" ...\n",
      "    \"\\\\de\" ...\n",
      "    \"aliases\" ...\n",
      "    \"explain\" ...\n",
      "    \"\\\\e\" ...\n",
      "    \"help\" ...\n",
      "    \"history\" ...\n",
      "    \"kill\" ...\n",
      "    \"ls\" ...\n",
      "    \"mv\" ...\n",
      "    \"mkdir\" ...\n",
      "    \"pwd\" ...\n",
      "    \"quit\" ...\n",
      "    \"\\\\q\" ...\n",
      "    \"register\" ...\n",
      "    \"rm\" ...\n",
      "    \"rmf\" ...\n",
      "    \"set\" ...\n",
      "    \"illustrate\" ...\n",
      "    \"\\\\i\" ...\n",
      "    \"run\" ...\n",
      "    \"exec\" ...\n",
      "    \"%default\" ...\n",
      "    \"%declare\" ...\n",
      "    \"scriptDone\" ...\n",
      "    \"\" ...\n",
      "    \"\" ...\n",
      "    <EOL> ...\n",
      "    \";\" ...\n",
      "    \n",
      "Details at logfile: /datalake/02-pig-50/q28-10/pig_1580250238401.log\n"
     ]
    }
   ],
   "source": [
    "!chmod +x grader.py\n",
    "!python3 grader.py"
   ]
  },
  {
   "cell_type": "code",
   "execution_count": null,
   "metadata": {},
   "outputs": [],
   "source": []
  }
 ],
 "metadata": {
  "kernelspec": {
   "display_name": "Python 3",
   "language": "python",
   "name": "python3"
  },
  "language_info": {
   "codemirror_mode": {
    "name": "ipython",
    "version": 3
   },
   "file_extension": ".py",
   "mimetype": "text/x-python",
   "name": "python",
   "nbconvert_exporter": "python",
   "pygments_lexer": "ipython3",
   "version": "3.6.9"
  }
 },
 "nbformat": 4,
 "nbformat_minor": 4
}
