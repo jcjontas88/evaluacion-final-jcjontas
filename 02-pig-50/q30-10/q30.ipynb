{
 "cells": [
  {
   "cell_type": "code",
   "execution_count": 1,
   "metadata": {},
   "outputs": [],
   "source": [
    "%load_ext bigdata\n",
    "%timeout 300\n",
    "%pig_start"
   ]
  },
  {
   "cell_type": "code",
   "execution_count": 2,
   "metadata": {},
   "outputs": [
    {
     "name": "stdout",
     "output_type": "stream",
     "text": [
      " fs -rm -f -r output;\n"
     ]
    }
   ],
   "source": [
    "%%pig\n",
    "fs -rm -f -r output;"
   ]
  },
  {
   "cell_type": "code",
   "execution_count": 3,
   "metadata": {},
   "outputs": [
    {
     "name": "stdout",
     "output_type": "stream",
     "text": [
      " fs -rm -f -r data.csv\n",
      "Deleted data.csv\n",
      " fs -put data.csv\n"
     ]
    }
   ],
   "source": [
    "%%pig\n",
    "fs -rm -f -r data.csv\n",
    "fs -put data.csv"
   ]
  },
  {
   "cell_type": "code",
   "execution_count": 3,
   "metadata": {},
   "outputs": [
    {
     "name": "stdout",
     "output_type": "stream",
     "text": [
      " u = LOAD 'data.csv' USING PigStorage(',') \n",
      "    AS (id:int, \n",
      "        firstname:CHARARRAY, \n",
      "        surname:CHARARRAY, \n",
      "        birthday:CHARARRAY, \n",
      "        color:CHARARRAY, \n",
      "        quantity:INT);\n"
     ]
    }
   ],
   "source": [
    "%%pig\n",
    "u = LOAD 'data.csv' USING PigStorage(',') \n",
    "    AS (id:int, \n",
    "        firstname:CHARARRAY, \n",
    "        surname:CHARARRAY, \n",
    "        birthday:CHARARRAY, \n",
    "        color:CHARARRAY, \n",
    "        quantity:INT);"
   ]
  },
  {
   "cell_type": "code",
   "execution_count": 4,
   "metadata": {},
   "outputs": [
    {
     "name": "stdout",
     "output_type": "stream",
     "text": [
      " v = FOREACH u GENERATE $3,ToDate($3,'yyyy-MM-dd');\n"
     ]
    }
   ],
   "source": [
    "%%pig\n",
    "v = FOREACH u GENERATE $3,ToDate($3,'yyyy-MM-dd');"
   ]
  },
  {
   "cell_type": "code",
   "execution_count": 5,
   "metadata": {},
   "outputs": [
    {
     "name": "stdout",
     "output_type": "stream",
     "text": [
      " w = FOREACH v GENERATE $0,\n",
      "    ToString($1,'dd'),\n",
      "    ToString($1,'d'),\n",
      "(CASE ToString($1,'EEE')\n",
      "    WHEN 'Mon' THEN 'lun'\n",
      "    WHEN 'Tue' THEN 'mar'\n",
      "    WHEN 'Wed' THEN 'mie'\n",
      "    WHEN 'Thu' THEN 'jue'\n",
      "    WHEN 'Fri' THEN 'vie'\n",
      "    WHEN 'Sat' THEN 'sab'\n",
      "    WHEN 'Sun' THEN 'dom' \n",
      "END),\n",
      "(CASE ToString($1,'EEE') \n",
      "    WHEN 'Mon' THEN 'lunes' \n",
      "    WHEN 'Tue' THEN 'martes' \n",
      "    WHEN 'Wed' THEN 'miercoles' \n",
      "    WHEN 'Thu' THEN 'jueves' \n",
      "    WHEN 'Fri' THEN 'viernes' \n",
      "    WHEN 'Sat' THEN 'sabado' \n",
      "    WHEN 'Sun' THEN 'domingo' \n",
      "END);\n"
     ]
    }
   ],
   "source": [
    "%%pig\n",
    "w = FOREACH v GENERATE $0,\n",
    "    ToString($1,'dd'),\n",
    "    ToString($1,'d'),\n",
    "(CASE ToString($1,'EEE')\n",
    "    WHEN 'Mon' THEN 'lun'\n",
    "    WHEN 'Tue' THEN 'mar'\n",
    "    WHEN 'Wed' THEN 'mie'\n",
    "    WHEN 'Thu' THEN 'jue'\n",
    "    WHEN 'Fri' THEN 'vie'\n",
    "    WHEN 'Sat' THEN 'sab'\n",
    "    WHEN 'Sun' THEN 'dom' \n",
    "END),\n",
    "(CASE ToString($1,'EEE') \n",
    "    WHEN 'Mon' THEN 'lunes' \n",
    "    WHEN 'Tue' THEN 'martes' \n",
    "    WHEN 'Wed' THEN 'miercoles' \n",
    "    WHEN 'Thu' THEN 'jueves' \n",
    "    WHEN 'Fri' THEN 'viernes' \n",
    "    WHEN 'Sat' THEN 'sabado' \n",
    "    WHEN 'Sun' THEN 'domingo' \n",
    "END);\n",
    "\n"
   ]
  },
  {
   "cell_type": "code",
   "execution_count": null,
   "metadata": {},
   "outputs": [],
   "source": [
    "%%pig\n",
    "STORE w INTO 'output'USING PigStorage(',');"
   ]
  },
  {
   "cell_type": "code",
   "execution_count": null,
   "metadata": {},
   "outputs": [],
   "source": [
    "!hadoop fs -copyToLocal output output"
   ]
  },
  {
   "cell_type": "code",
   "execution_count": null,
   "metadata": {},
   "outputs": [],
   "source": [
    "!chmod +x grader.py\n",
    "!python3 grader.py"
   ]
  },
  {
   "cell_type": "code",
   "execution_count": 9,
   "metadata": {},
   "outputs": [
    {
     "name": "stdout",
     "output_type": "stream",
     "text": [
      "-rw-r--r--   1 root supergroup          0 2020-01-23 18:28 output/_SUCCESS\n",
      "-rw-r--r--   1 root supergroup        509 2020-01-23 18:28 output/part-m-00000\n"
     ]
    }
   ],
   "source": [
    "!hadoop fs -ls output/*"
   ]
  },
  {
   "cell_type": "code",
   "execution_count": 10,
   "metadata": {},
   "outputs": [
    {
     "name": "stdout",
     "output_type": "stream",
     "text": [
      "1971-07-08,08,8,jue,jueves\n",
      "1974-05-23,23,23,jue,jueves\n",
      "1973-04-22,22,22,dom,domingo\n",
      "1975-01-29,29,29,mie,miercoles\n",
      "1974-07-03,03,3,mie,miercoles\n",
      "1974-10-18,18,18,vie,viernes\n",
      "1970-10-05,05,5,lun,lunes\n",
      "1969-02-24,24,24,lun,lunes\n",
      "1974-10-17,17,17,jue,jueves\n",
      "1975-02-28,28,28,vie,viernes\n",
      "1969-12-07,07,7,dom,domingo\n",
      "1973-12-24,24,24,lun,lunes\n",
      "1970-08-27,27,27,jue,jueves\n",
      "1972-12-12,12,12,mar,martes\n",
      "1970-07-01,01,1,mie,miercoles\n",
      "1974-02-11,11,11,lun,lunes\n",
      "1973-04-01,01,1,dom,domingo\n",
      "1973-04-29,29,29,dom,domingo\n"
     ]
    }
   ],
   "source": [
    "!hadoop fs -cat output/part-m-00000"
   ]
  },
  {
   "cell_type": "code",
   "execution_count": null,
   "metadata": {},
   "outputs": [],
   "source": []
  }
 ],
 "metadata": {
  "kernelspec": {
   "display_name": "Python 3",
   "language": "python",
   "name": "python3"
  },
  "language_info": {
   "codemirror_mode": {
    "name": "ipython",
    "version": 3
   },
   "file_extension": ".py",
   "mimetype": "text/x-python",
   "name": "python",
   "nbconvert_exporter": "python",
   "pygments_lexer": "ipython3",
   "version": "3.6.9"
  }
 },
 "nbformat": 4,
 "nbformat_minor": 4
}
